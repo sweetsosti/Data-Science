{
 "cells": [
  {
   "cell_type": "code",
   "execution_count": 1,
   "id": "28fc5e58-db98-41a5-a0b4-e2c7aabe39fb",
   "metadata": {},
   "outputs": [],
   "source": [
    "import pandas as pd"
   ]
  },
  {
   "cell_type": "code",
   "execution_count": 7,
   "id": "1cb24e91-0ef5-40bf-b003-c612c1f9a616",
   "metadata": {},
   "outputs": [
    {
     "name": "stdout",
     "output_type": "stream",
     "text": [
      "0             Amy White\n",
      "1          Jack Stewart\n",
      "2    Richard Lauderdale\n",
      "3          Sara Johnson\n",
      "dtype: object\n"
     ]
    }
   ],
   "source": [
    "import pandas as pd\n",
    "employee_names =[\"Amy White\",\"Jack Stewart\",\"Richard Lauderdale\",\"Sara Johnson\"]\n",
    "employee_series = pd.Series(employee_names)\n",
    "print(employee_series)\n"
   ]
  },
  {
   "cell_type": "code",
   "execution_count": null,
   "id": "997e455e-872e-421a-803a-7a82f40ef1ff",
   "metadata": {},
   "outputs": [],
   "source": []
  }
 ],
 "metadata": {
  "kernelspec": {
   "display_name": "Python 3 (ipykernel)",
   "language": "python",
   "name": "python3"
  },
  "language_info": {
   "codemirror_mode": {
    "name": "ipython",
    "version": 3
   },
   "file_extension": ".py",
   "mimetype": "text/x-python",
   "name": "python",
   "nbconvert_exporter": "python",
   "pygments_lexer": "ipython3",
   "version": "3.12.4"
  }
 },
 "nbformat": 4,
 "nbformat_minor": 5
}
