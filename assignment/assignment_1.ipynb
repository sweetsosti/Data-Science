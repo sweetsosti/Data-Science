{
 "cells": [
  {
   "cell_type": "code",
   "execution_count": null,
   "id": "7995636d-1423-4f77-8273-e2969e3d925e",
   "metadata": {},
   "outputs": [],
   "source": [
    "def describe_pet(**kwargs):\n",
    "    name = kwargs['name']\n",
    "\n",
    "    for key,value in kwargs.items():\n",
    "        print(f'{key}:{value}')\n",
    "\n",
    "describe_pet(name ='Rex',type= 'Dog',age=5)\n",
    "    \n"
   ]
  },
  {
   "cell_type": "code",
   "execution_count": null,
   "id": "794a6e51-9d00-47cc-b2ee-ef159b5ba985",
   "metadata": {},
   "outputs": [],
   "source": [
    "  ##no.2 standard deviation\n",
    " from math import sqrt\n",
    "\n",
    "def standardDeviation(list1):\n",
    "    n = len(list1)\n",
    "    mean = sum(list1) / n\n",
    "    list2 = [(x - mean) ** 2 for x in list1]\n",
    "    sd = sqrt(sum(list2) / n)\n",
    "    return f\"Standard Deviation of your list: {sd:.3f}\"\n",
    "\n",
    "marks = [1,3, 5, 14, 12, 31, 424, 532, 5, 67, 44, 90, 24,35,67]\n",
    "\n",
    "print(standardDeviation(marks))"
   ]
  }
 ],
 "metadata": {
  "kernelspec": {
   "display_name": "Python 3 (ipykernel)",
   "language": "python",
   "name": "python3"
  },
  "language_info": {
   "codemirror_mode": {
    "name": "ipython",
    "version": 3
   },
   "file_extension": ".py",
   "mimetype": "text/x-python",
   "name": "python",
   "nbconvert_exporter": "python",
   "pygments_lexer": "ipython3",
   "version": "3.12.4"
  }
 },
 "nbformat": 4,
 "nbformat_minor": 5
}
