{
 "cells": [
  {
   "cell_type": "markdown",
   "id": "7e76d9b4",
   "metadata": {},
   "source": [
    "# Problem Statement\n",
    "\n",
    "We want to build an online shopping cart system that allows users to add products to their cart, calculate the total cost, apply discounts, and generate an invoice. The system should include the following functionalities:\n",
    "\n",
    "- Adding products to the cart\n",
    "- Removing products from the cart\n",
    "- Calculating the total cost\n",
    "- Applying discounts based on user type\n",
    "- Generating an invoice\n",
    "\n",
    "### 1. Create the Product class\n",
    "\n",
    "We create a basic `Product` class with attributes for the product name and price."
   ]
  },
  {
   "cell_type": "code",
   "execution_count": 2,
   "id": "998a3b82-4dbf-4b29-be58-1b483692f7f7",
   "metadata": {},
   "outputs": [],
   "source": [
    "class Product:\n",
    "    def __init__(self, product_name, product_price):\n",
    "        self.name = product_name\n",
    "        self.price = product_price\n",
    "\n",
    "    def __str__(self):\n",
    "        return f\"Product: {self.name}, Price: ${self.price:.2f}\""
   ]
  },
  {
   "cell_type": "markdown",
   "id": "0c9aa397",
   "metadata": {},
   "source": [
    "### 2.  Implement the User class\n",
    "\n",
    "In this step, we create a `User` class with attributes for the user's name and whether they are a premium member. We then modify the `calculate_total_cost` method in the `ShoppingCart` class to apply a `10%` discount for premium users."
   ]
  },
  {
   "cell_type": "code",
   "execution_count": 4,
   "id": "3393e953",
   "metadata": {},
   "outputs": [],
   "source": [
    "class User:\n",
    "    def __init__(self, username, is_premium=False):\n",
    "        self.username = username  \n",
    "        self.is_premium = is_premium  \n",
    "\n",
    "    def __str__(self):\n",
    "        member_status = \"Premium\" if self.is_premium else \"Regular\"\n",
    "        return f\"User: {self.username}, Membership: {member_status}\"  # String representation\n",
    "    # Discount Decorator\n",
    "def discount_10_percent(func):\n",
    "    def wrapper(cart, user):\n",
    "        total_cost = func(cart, user)  \n",
    "        if user.is_premium:\n",
    "            return total_cost * 0.9  \n",
    "        return total_cost \n",
    "    return wrapper\n",
    "\n"
   ]
  },
  {
   "cell_type": "markdown",
   "id": "3b7e070b",
   "metadata": {},
   "source": [
    "### 3. Create the ShoppingCart class\n",
    "\n",
    "In this step, we create a `ShoppingCart` class with methods for adding and removing products from the cart, as well as calculating the total cost of the items in the cart."
   ]
  },
  {
   "cell_type": "code",
   "execution_count": 26,
   "id": "c0b5196d",
   "metadata": {},
   "outputs": [],
   "source": [
    "class ShoppingCart:\n",
    "    def __init__(self):\n",
    "        self.products = []  # Initialize an empty list to hold products in the cart\n",
    "\n",
    "    def add_product(self, product):\n",
    "        self.products.append(product)\n",
    "        print(f\"Added {product.name} to the cart.\")\n",
    "\n",
    "    def remove_product(self, product):\n",
    "        if product in self.products:\n",
    "            self.products.remove(product)\n",
    "            print(f\"Removed {product.name} from the cart.\")\n",
    "        else:\n",
    "            print(f\"{product.name} is not in the cart.\")\n",
    "    @discount_10_percent\n",
    "    def calculate_total_cost(self, user):\n",
    "     return sum(product.price for product in self.products)  # Calculate total price\"\n",
    "\n",
    "\n",
    "    "
   ]
  },
  {
   "cell_type": "markdown",
   "id": "da1f3494",
   "metadata": {},
   "source": [
    "Here, we defined a decorator `discount_10_percent` that applies a `10%` discount to the total cost. We then apply this decorator to the `calculate_total_cost` method in the `ShoppingCart` class."
   ]
  },
  {
   "cell_type": "code",
   "execution_count": 22,
   "id": "70bbec8d",
   "metadata": {},
   "outputs": [],
   "source": [
    "    "
   ]
  },
  {
   "cell_type": "markdown",
   "id": "afc26053",
   "metadata": {},
   "source": [
    "### 4. Testing the functionality\n",
    "\n",
    "Now that we have implemented the necessary classes and methods, let's test our online shopping cart system:"
   ]
  },
  {
   "cell_type": "code",
   "execution_count": 36,
   "id": "be79dc62-ee51-4191-b834-57ac5128410f",
   "metadata": {},
   "outputs": [
    {
     "name": "stdout",
     "output_type": "stream",
     "text": [
      "Added Apple to the cart.\n",
      "Added Banana to the cart.\n",
      "Total cost for Ram (Premium): 1.35\n",
      "Total cost for Shyam (Regular): 1.50\n"
     ]
    }
   ],
   "source": [
    "# Create product instances\n",
    "apple = Product(\"Apple\", 1.00)\n",
    "banana = Product(\"Banana\", 0.50)\n",
    "\n",
    "# Create user instances\n",
    "premium_user = User(\"Ram\", is_premium=True)  # Premium user\n",
    "regular_user = User(\"Shyam\", is_premium=False)   # Regular user\n",
    "\n",
    "# Create a shopping cart and add products\n",
    "cart = ShoppingCart()\n",
    "cart.add_product(apple)\n",
    "cart.add_product(banana)\n",
    "\n",
    "# Calculate total cost for both users\n",
    "premium_total = cart.calculate_total_cost(premium_user)  # Premium user, 10% discount\n",
    "regular_total = cart.calculate_total_cost(regular_user)  # Regular user, no discount\n",
    "\n",
    "# Display the total cost for each user\n",
    "print(f\"Total cost for {premium_user.username} (Premium): {premium_total:.2f}\")\n",
    "print(f\"Total cost for {regular_user.username} (Regular): {regular_total:.2f}\")\n",
    "\n"
   ]
  },
  {
   "cell_type": "markdown",
   "id": "7ea7c96e",
   "metadata": {},
   "source": [
    "### 5. Generating Invoice for a given cart"
   ]
  },
  {
   "cell_type": "code",
   "execution_count": 38,
   "id": "3c12ae69",
   "metadata": {
    "scrolled": true
   },
   "outputs": [],
   "source": [
    "class Invoice:\n",
    "    def __init__(self, user, cart, total_cost):\n",
    "        self.user = user\n",
    "        self.cart = cart\n",
    "        self.total_cost = total_cost\n",
    "\n",
    "    def generate_invoice(self):\n",
    "        invoice = f\"--- Invoice for {self.user.username} ---\\n\"\n",
    "        invoice += f\"Membership Status: {'Premium' if self.user.is_premium else 'Regular'}\\n\"\n",
    "        invoice += \"Items Purchased:\\n\"\n",
    "\n",
    "        # List all items in the cart\n",
    "        for product in self.cart.products:\n",
    "            invoice += f\"- {product.name}: {product.price:.2f}\\n\"\n",
    "\n",
    "        # Total cost\n",
    "        invoice += f\"\\nTotal Cost: {self.total_cost:.2f}\\n\"\n",
    "        invoice += \"Thank you for shopping with us!\"\n",
    "        return invoice\n",
    "\n",
    "\n"
   ]
  },
  {
   "cell_type": "markdown",
   "id": "9c8abb87-bf93-4bc0-bfba-3f05b67c7b0d",
   "metadata": {},
   "source": [
    "# Premium Invoice"
   ]
  },
  {
   "cell_type": "code",
   "execution_count": 40,
   "id": "4338674a-4a03-475c-a107-14e9cdd2bf1a",
   "metadata": {},
   "outputs": [
    {
     "name": "stdout",
     "output_type": "stream",
     "text": [
      "--- Invoice for Ram ---\n",
      "Membership Status: Premium\n",
      "Items Purchased:\n",
      "- Apple: 1.00\n",
      "- Banana: 0.50\n",
      "\n",
      "Total Cost: 1.35\n",
      "Thank you for shopping with us!\n"
     ]
    }
   ],
   "source": [
    "# Calculate total cost for the premium user\n",
    "premium_total = cart.calculate_total_cost(premium_user)\n",
    "\n",
    "# Generate and print the invoice for the premium user\n",
    "premium_invoice = Invoice(premium_user, cart, premium_total)\n",
    "print(premium_invoice.generate_invoice())\n"
   ]
  },
  {
   "cell_type": "markdown",
   "id": "53a1db69-1740-47b8-bc4a-d7654f5a854e",
   "metadata": {},
   "source": [
    "# Regular Invoice"
   ]
  },
  {
   "cell_type": "code",
   "execution_count": 42,
   "id": "45c2bdf0-493e-4074-86e4-48c3c83816a0",
   "metadata": {},
   "outputs": [
    {
     "name": "stdout",
     "output_type": "stream",
     "text": [
      "--- Invoice for Shyam ---\n",
      "Membership Status: Regular\n",
      "Items Purchased:\n",
      "- Apple: 1.00\n",
      "- Banana: 0.50\n",
      "\n",
      "Total Cost: 1.50\n",
      "Thank you for shopping with us!\n"
     ]
    }
   ],
   "source": [
    "\n",
    "regular_total = cart.calculate_total_cost(regular_user)\n",
    "\n",
    "#Genrating Invoice\n",
    "regular_invoice = Invoice(regular_user, cart, regular_total)\n",
    "print(regular_invoice.generate_invoice())\n"
   ]
  },
  {
   "cell_type": "markdown",
   "id": "b602d561-09a8-4086-9295-dce1e8dacb71",
   "metadata": {},
   "source": [
    "### 6. Bonus Challenge"
   ]
  },
  {
   "cell_type": "markdown",
   "id": "cd2cf83b",
   "metadata": {},
   "source": [
    "In this case each user share the same cart, which is useless. Also each user can register himself/herself as a premium user, which is not practical again. So, you have to add following two additional features to the above program, to make it more real:\n",
    "\n",
    "1. Cart for a user should be independent from other users\n",
    "2. Add a new admin feature `is_admin` that takes in boolean values `[True, False]`, and only admin should be allowed to create other admins and set `is_premium=True` for other users"
   ]
  },
  {
   "cell_type": "code",
   "execution_count": null,
   "id": "d67e0bcc-6261-4a70-9f16-b86b497d4d31",
   "metadata": {},
   "outputs": [],
   "source": []
  }
 ],
 "metadata": {
  "kernelspec": {
   "display_name": "Python 3 (ipykernel)",
   "language": "python",
   "name": "python3"
  },
  "language_info": {
   "codemirror_mode": {
    "name": "ipython",
    "version": 3
   },
   "file_extension": ".py",
   "mimetype": "text/x-python",
   "name": "python",
   "nbconvert_exporter": "python",
   "pygments_lexer": "ipython3",
   "version": "3.12.4"
  }
 },
 "nbformat": 4,
 "nbformat_minor": 5
}
