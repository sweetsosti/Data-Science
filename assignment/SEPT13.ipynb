{
 "cells": [
  {
   "cell_type": "markdown",
   "metadata": {},
   "source": [
    "### Coding Scenario: Personal Profile and Preferences\n",
    "\n",
    "**Objective:** You are tasked with creating a Python script to represent and process personal profile information and preferences. This scenario will test your knowledge of strings, integers, lists, tuples, dictionaries, and boolean data types in Python.\n",
    "\n",
    "#### Scenario Description:\n",
    "\n",
    "Imagine you are designing a simple profile for a social media application. Each user profile contains basic personal information, a list of favorite hobbies, preferred screen dimensions for viewing the app, and a brief description of their pet.\n"
   ]
  },
  {
   "cell_type": "markdown",
   "metadata": {},
   "source": [
    "\n",
    "#### Task Instructions:\n",
    "\n",
    "1. **Personal Information**\n",
    "   - Create a variable `name` (str) to store the user's name.\n",
    "   - Create a variable `age` (int) to store the user's age.\n",
    "   - Print a greeting message using these variables, e.g., `\"Hello, my name is Alice and I am 30 years old.\"`\n"
   ]
  },
  {
   "cell_type": "code",
   "execution_count": 2,
   "metadata": {},
   "outputs": [
    {
     "name": "stdout",
     "output_type": "stream",
     "text": [
      "Hello, my name is Alicr and I am 30 years old.\n"
     ]
    }
   ],
   "source": [
    "# Your Solution Here\n",
    "name = str(input(\"Enter your name: \"))\n",
    "age = int(input(\"Enter your age:\"))\n",
    "print(f\"Hello, my name is {name} and I am {age} years old.\")"
   ]
  },
  {
   "cell_type": "markdown",
   "metadata": {},
   "source": [
    "2. **Favorite Hobbies**\n",
    "   - Create a list `favorite_hobbies` containing at least three hobbies as strings.\n",
    "   - Add another hobby to this list and print the updated list."
   ]
  },
  {
   "cell_type": "code",
   "execution_count": 5,
   "metadata": {},
   "outputs": [
    {
     "name": "stdout",
     "output_type": "stream",
     "text": [
      "['cooking', 'codding', 'football', 'cleaning']\n"
     ]
    }
   ],
   "source": [
    "# Your Solution Here\n",
    "favourite_hobbies = [\"cooking\",\"codding\",\"football\"]\n",
    "favourite_hobbies .append(\"cleaning\")\n",
    "print(favourite_hobbies )\n"
   ]
  },
  {
   "cell_type": "markdown",
   "metadata": {},
   "source": [
    "3. **Screen Dimensions**\n",
    "   - Define a tuple `screen_dimensions` with two integers representing the width and height of the user's preferred screen size for the app.\n",
    "   - Attempt to modify one of the values in the tuple to simulate an attempt to change screen preferences and comment on the outcome."
   ]
  },
  {
   "cell_type": "code",
   "execution_count": 9,
   "metadata": {},
   "outputs": [
    {
     "name": "stdout",
     "output_type": "stream",
     "text": [
      "(33, 24)\n"
     ]
    }
   ],
   "source": [
    "# Your Solution Here\n",
    "screen_dimensions =(33,24)\n",
    "# screen_dimensions[1] = 66   ##in tuples we cannot change value\n",
    "print(screen_dimensions)\n"
   ]
  },
  {
   "cell_type": "markdown",
   "metadata": {},
   "source": [
    "4. **Pet Description**\n",
    "   - Create a dictionary `pet` to describe the user's pet. It should include keys for `type`, `name`, `age`, and later, `color`.\n",
    "   - Add a `color` key to the `pet` dictionary with an appropriate value and print the pet's name and color."
   ]
  },
  {
   "cell_type": "code",
   "execution_count": 12,
   "metadata": {},
   "outputs": [
    {
     "name": "stdout",
     "output_type": "stream",
     "text": [
      "{'type': 'Honda', 'name': 'SUV', 'age': 12, 'color': 'red'}\n"
     ]
    }
   ],
   "source": [
    "# Your Solution Here\n",
    "pet = {\n",
    "    \"type\" : \"Honda\",\n",
    "    \"name\" : \"SUV\",\n",
    "    \"age\" : 12,\n",
    "    }\n",
    "pet[\"color\"]=\"red\"\n",
    "print(pet)"
   ]
  },
  {
   "cell_type": "markdown",
   "metadata": {},
   "source": [
    "5. **Adult Status**\n",
    "   - Determine if the user is an adult with a boolean variable `is_adult`. Consider someone an adult if they are 18 years old or more.\n",
    "   - Using conditional logic, print `\"I am an adult.\"` if true, and `\"I am not an adult.\"` if false.\n"
   ]
  },
  {
   "cell_type": "code",
   "execution_count": 16,
   "metadata": {},
   "outputs": [
    {
     "name": "stdout",
     "output_type": "stream",
     "text": [
      " I am an adult\n"
     ]
    }
   ],
   "source": [
    "age = int(input(\"Enter your age: \"))\n",
    "if age >=18:\n",
    "    print(\" I am an adult\")\n",
    "else:\n",
    "    print(\"I am not an adult\")"
   ]
  },
  {
   "cell_type": "markdown",
   "metadata": {},
   "source": [
    "### Question : Book Keeper\n",
    "\n",
    "Following the data below , complete the given Tasks :"
   ]
  },
  {
   "cell_type": "code",
   "execution_count": null,
   "metadata": {},
   "outputs": [],
   "source": [
    "# A list of tuples, where each tuple contains information about a book: (title, genre, year_published, times_borrowed).\n",
    "\n",
    "books = [\n",
    "    (\"The Alchemist\", \"Fiction\", 1988, 250),\n",
    "    (\"The Da Vinci Code\", \"Mystery\", 2003, 300),\n",
    "    (\"A Brief History of Time\", \"Science\", 1988, 150),\n",
    "    (\"The Theory of Everything\", \"Science\", 2002, 100),\n",
    "    (\"Pride and Prejudice\", \"Fiction\", 1813, 200),\n",
    "    (\"To Kill a Mockingbird\", \"Fiction\", 1960, 180),\n",
    "    (\"The Catcher in the Rye\", \"Fiction\", 1951, 220),\n",
    "    (\"Angels & Demons\", \"Mystery\", 2000, 210),\n",
    "    (\"The Grand Design\", \"Science\", 2010, 90),\n",
    "    (\"1984\", \"Fiction\", 1949, 190)\n",
    "]"
   ]
  },
  {
   "cell_type": "markdown",
   "metadata": {},
   "source": [
    "**Task 01**: Create a Book Filtering Function\n",
    "\n",
    "Given the list books as shown below, write a Python function named `filter_books` that filters books based on *genre* and *publication year*. The function should take two parameters: `genre (a string)` and `year (an integer)`. It should return a list of book titles that match the given genre and have been **published on or after** the specified year.\n",
    "\n",
    "- Example usage : `print(filter_books(\"Fiction\", 1980))`\n",
    "- Expected output: `['The Alchemist', 'The Catcher in the Rye']`\n",
    "\n",
    "*Try to use List Comprehension with If condition*"
   ]
  },
  {
   "cell_type": "code",
   "execution_count": 27,
   "metadata": {},
   "outputs": [
    {
     "name": "stdout",
     "output_type": "stream",
     "text": [
      "Enter the genre (i.e Fiction, Science):  Science\n",
      "Enter the year:  1988\n"
     ]
    },
    {
     "name": "stdout",
     "output_type": "stream",
     "text": [
      "Book name(s): ['A Brief History of Time']\n"
     ]
    }
   ],
   "source": [
    "books = [\n",
    "    (\"The Alchemist\", \"Fiction\", 1988, 250),\n",
    "    (\"The Da Vinci Code\", \"Mystery\", 2003, 300),\n",
    "    (\"A Brief History of Time\", \"Science\", 1988, 150),\n",
    "    (\"The Theory of Everything\", \"Science\", 2002, 100),\n",
    "    (\"Pride and Prejudice\", \"Fiction\", 1813, 200),\n",
    "    (\"To Kill a Mockingbird\", \"Fiction\", 1960, 180),\n",
    "    (\"The Catcher in the Rye\", \"Fiction\", 1951, 220),\n",
    "    (\"Angels & Demons\", \"Mystery\", 2000, 210),\n",
    "    (\"The Grand Design\", \"Science\", 2010, 90),\n",
    "    (\"1984\", \"Fiction\", 1949, 190)\n",
    "]\n",
    "def filter_books(genre, year):\n",
    "    result =[]\n",
    "    for book in books:\n",
    "        if book[1] == genre and book[2] == year:\n",
    "            result.append(book[0])\n",
    "    return result\n",
    "genre_a = input(\"Enter the genre (i.e Fiction, Science): \")\n",
    "year_a = int(input(\"Enter the year: \"))\n",
    "\n",
    "filtered_books =filter_books(genre_a, year_a)\n",
    "\n",
    "print(f\"Book name(s): {filtered_books}\")\n",
    "\n",
    "            \n",
    "    \n",
    "    \n",
    "\n",
    "\n"
   ]
  },
  {
   "cell_type": "markdown",
   "metadata": {},
   "source": [
    "**Task 02** : Write a Python function named `borrowing_stats` that uses dictionary comprehension to create and return a dictionary. This dictionary should map each book's title to the number of times it has been borrowed, but only include books from the \"`Fiction`\" genre.\n",
    "\n",
    "\n",
    "- Example usage : `print(borrowing_stats(books))`\n",
    "- Expected output: `{'The Alchemist': 250, 'Pride and Prejudice': 200, 'To Kill a Mockingbird': 180, 'The Catcher in the Rye': 220, '1984': 190}`"
   ]
  },
  {
   "cell_type": "code",
   "execution_count": 73,
   "metadata": {},
   "outputs": [
    {
     "name": "stdout",
     "output_type": "stream",
     "text": [
      "Enter the genre (i.e Fiction, Science):  Fiction\n"
     ]
    },
    {
     "name": "stdout",
     "output_type": "stream",
     "text": [
      "{'The Alchemist': 250, 'Pride and Prejudice': 200, 'To Kill a Mockingbird': 180, 'The Catcher in the Rye': 220, '1984': 190}\n"
     ]
    }
   ],
   "source": [
    "books = [\n",
    "    (\"The Alchemist\", \"Fiction\", 1988, 250),\n",
    "    (\"The Da Vinci Code\", \"Mystery\", 2003, 300),\n",
    "    (\"A Brief History of Time\", \"Science\", 1988, 150),\n",
    "    (\"The Theory of Everything\", \"Science\", 2002, 100),\n",
    "    (\"Pride and Prejudice\", \"Fiction\", 1813, 200),\n",
    "    (\"To Kill a Mockingbird\", \"Fiction\", 1960, 180),\n",
    "    (\"The Catcher in the Rye\", \"Fiction\", 1951, 220),\n",
    "    (\"Angels & Demons\", \"Mystery\", 2000, 210),\n",
    "    (\"The Grand Design\", \"Science\", 2010, 90),\n",
    "    (\"1984\", \"Fiction\", 1949, 190)]\n",
    "\n",
    "def borrowing_stats(books, genre):\n",
    "    return {book[0]: book[3] for book in books if book[1] == genre}\n",
    "genre_a = input(\"Enter the genre (i.e Fiction, Science): \")\n",
    "print(borrowing_stats(books, genre_a))"
   ]
  },
  {
   "cell_type": "markdown",
   "metadata": {},
   "source": [
    "**Task 03** : Write a Python program that uses a lambda expression to sort this list by publication year in ascending order. Print the sorted list of books.\n",
    "\n",
    "*Try using a lambda expression with the sorted() function*"
   ]
  },
  {
   "cell_type": "code",
   "execution_count": null,
   "metadata": {},
   "outputs": [
    {
     "name": "stdout",
     "output_type": "stream",
     "text": [
      "[('Pride and Prejudice', 'Fiction', 1813, 200), ('1984', 'Fiction', 1949, 190), ('The Catcher in the Rye', 'Fiction', 1951, 220), ('To Kill a Mockingbird', 'Fiction', 1960, 180), ('The Alchemist', 'Fiction', 1988, 250), ('A Brief History of Time', 'Science', 1988, 150), ('Angels & Demons', 'Mystery', 2000, 210), ('The Theory of Everything', 'Science', 2002, 100), ('The Da Vinci Code', 'Mystery', 2003, 300), ('The Grand Design', 'Science', 2010, 90)]\n"
     ]
    }
   ],
   "source": [
    "# Your Solution Here\n",
    "\n",
    "sorted_books = sorted(books, key=lambda book: book[2])\n",
    "\n",
    "print(sorted_books)"
   ]
  },
  {
   "cell_type": "code",
   "execution_count": 83,
   "metadata": {},
   "outputs": [
    {
     "name": "stdout",
     "output_type": "stream",
     "text": [
      "[('Pride and Prejudice', 'Fiction', 1813, 200), ('1984', 'Fiction', 1949, 190), ('The Catcher in the Rye', 'Fiction', 1951, 220), ('To Kill a Mockingbird', 'Fiction', 1960, 180), ('The Alchemist', 'Fiction', 1988, 250), ('A Brief History of Time', 'Science', 1988, 150), ('Angels & Demons', 'Mystery', 2000, 210), ('The Theory of Everything', 'Science', 2002, 100), ('The Da Vinci Code', 'Mystery', 2003, 300), ('The Grand Design', 'Science', 2010, 90)]\n"
     ]
    }
   ],
   "source": [
    "sorted_books = sorted(books, key=lambda book: book[2])\n",
    "print(sorted_books)"
   ]
  },
  {
   "cell_type": "markdown",
   "metadata": {},
   "source": [
    "### Question: File Read and Write\n",
    "**Write a Program that Uses Functions `write_to_file` and `read_from_file`**:\n",
    "- `write_to_file(filename, content)`: Writes `content` to a file named `filename`. If the file doesn't exist, it should be created.\n",
    "- `read_from_file(filename)`: Reads and prints the content of a file named `filename`.\n",
    "Call `write_to_file` to write \"Hello, Python!\" to a file named \"greetings.txt\", then call `read_from_file` to read and print the content of this file."
   ]
  },
  {
   "cell_type": "code",
   "execution_count": null,
   "metadata": {},
   "outputs": [],
   "source": [
    "# Your Solution Here\n",
    "def wite_to_file(filename,content):\n",
    "    "
   ]
  },
  {
   "cell_type": "code",
   "execution_count": null,
   "metadata": {},
   "outputs": [],
   "source": []
  },
  {
   "cell_type": "markdown",
   "metadata": {},
   "source": [
    "### Scenario:\n",
    "\n",
    "You are tasked with designing a system for a **vehicle rental company**. The company rents out various types of vehicles like **Cars** and **Bikes**, and each vehicle has some shared characteristics but also some distinct ones. \n",
    "\n",
    "### Requirements:\n",
    "1. Each **Vehicle** has attributes such as:\n",
    "   - `vehicle_id`: A unique identifier for the vehicle.\n",
    "   - `brand`: The brand of the vehicle.\n",
    "   - `rental_price`: Price per day to rent the vehicle.\n",
    "\n",
    "2. Both **Car** and **Bike** are types of **Vehicles**.  \n",
    "   - A **Car** has an additional attribute: `number_of_doors`.  \n",
    "   - A **Bike** has an additional attribute: `bike_type` (e.g., mountain bike, racing bike).\n",
    "\n",
    "3. You should provide methods to:\n",
    "   - **Calculate total rental cost**: Given the number of rental days, calculate the total cost for any vehicle.\n",
    "   - **Display vehicle details**: For both cars and bikes, display details including the unique attributes (e.g., `number_of_doors` for cars, `bike_type` for bikes).\n",
    "\n",
    "4. Implement the following OOP concepts:\n",
    "   - **Encapsulation**: Ensure that all vehicle attributes are private and can only be accessed or modified through getter/setter methods.\n",
    "   - **Abstraction**: Provide a clean interface for calculating the total rental cost and displaying vehicle details, hiding the internal logic.\n",
    "   - **Inheritance**: Both **Car** and **Bike** should inherit common functionality from the **Vehicle** class.\n",
    "   - **Polymorphism**: Use method overriding so that the method for displaying vehicle details works differently for cars and bikes.\n",
    "\n",
    "---\n",
    "\n",
    "### Task:\n",
    "\n",
    "1. **Define a `Vehicle` base class** that implements the common attributes and methods.\n",
    "2. **Define two subclasses `Car` and `Bike`** that inherit from `Vehicle` and implement their specific attributes.\n",
    "3. Use encapsulation by making attributes private and providing public methods to interact with them.\n",
    "4. Use polymorphism to create a `display_details` method that behaves differently for `Car` and `Bike`.\n",
    "\n",
    "---\n",
    "\n",
    "### Bonus:\n",
    "After completing the classes, create an example script that:\n",
    "- Creates a list of vehicles (a mix of Cars and Bikes).\n",
    "- Displays the details of each vehicle.\n",
    "- Calculates and prints the total rental cost for a given number of days for each vehicle.\n"
   ]
  },
  {
   "cell_type": "code",
   "execution_count": 5,
   "metadata": {},
   "outputs": [],
   "source": [
    "# Your Soloution Here\n",
    "class Vehicle:\n",
    "    def __init__(self, vehicle_id,brand,rental_price):\n",
    "        self.__vehicle_id = vehicle_id\n",
    "        self.__brand = brand\n",
    "        self.__rental_price = rental_price\n",
    "    def get_vehicle_id(self):\n",
    "        return self.__vehicle_id\n",
    "    def get_brand(self):\n",
    "        return self.__brand\n",
    "    def get_rental_price(self):\n",
    "        return self.__rental_price\n",
    "    #encaptulation\n",
    "    def set_rental_price(self, price):\n",
    "        self.__rental_price = rental_price\n",
    "    def rental_price(self,days):\n",
    "        return self.__rental_price*days\n",
    "#abstraction\n",
    "    def display_details(self):\n",
    "        raise NotImplementedError(\"Subclasses must implement this method\")\n",
    "\n",
    "class Car(Vehicle):\n",
    "    def __init__(self,vehicle_id,brand,rental_price,number_of_doors):\n",
    "        super().__init__(vehicle_id,brand,rental_price)\n",
    "        self.__number_of_doors = number_of_doors\n",
    "    def get_number_of_doors(self):\n",
    "        return self.__number_of_doors\n",
    "    def display_details(self):\n",
    "         print(f\"Car ID: {self.get_vehicle_id()}, Brand: {self.get_brand()}, Rental Price: ${self.get_rental_price()}/day, Number of Doors: {self.get_number_of_doors()}\")\n",
    "\n",
    "\n",
    "class Bike(Vehicle):\n",
    "    def __init__(self,vehicle_id,brand,rental_price,bike_type):\n",
    "        super().__init__(vehicle_id,brand,rental_price)\n",
    "        self.__bike_type = bike_type\n",
    "    def get_bike_type(self):\n",
    "        return self._bike_type\n",
    "    def display_details(self):\n",
    "         print(f\"Bike ID: {self.get_vehicle_id()}, Brand: {self.get_brand()}, Rental Price: ${self.get_rental_price()}/day, Bike Type: {self.bike_type()}\")\n",
    "    \n",
    "\n",
    "           \n",
    "        "
   ]
  },
  {
   "cell_type": "code",
   "execution_count": null,
   "metadata": {},
   "outputs": [],
   "source": []
  }
 ],
 "metadata": {
  "kernelspec": {
   "display_name": "Python 3 (ipykernel)",
   "language": "python",
   "name": "python3"
  },
  "language_info": {
   "codemirror_mode": {
    "name": "ipython",
    "version": 3
   },
   "file_extension": ".py",
   "mimetype": "text/x-python",
   "name": "python",
   "nbconvert_exporter": "python",
   "pygments_lexer": "ipython3",
   "version": "3.12.4"
  }
 },
 "nbformat": 4,
 "nbformat_minor": 4
}
