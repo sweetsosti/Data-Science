{
 "cells": [
  {
   "cell_type": "markdown",
   "id": "4a090f48-cb4c-4d83-afab-c0e0bfb9437c",
   "metadata": {},
   "source": [
    "## Custom Exception: \n",
    "\n",
    "Define a custom exception NegativeNumberError. Write a function sqrt_of_number that calculates the square root of a number but raises NegativeNumberError if the input is a negative number.\n",
    "\n",
    "```python\n",
    "class NegativeNumberError(Exception):\n",
    "    pass\n",
    "\n",
    "def sqrt_of_number(x):\n",
    "    # Your code here\n",
    "```"
   ]
  },
  {
   "cell_type": "code",
   "execution_count": 32,
   "id": "9a63f878-0976-4b17-ac2e-47266204847f",
   "metadata": {},
   "outputs": [
    {
     "name": "stdin",
     "output_type": "stream",
     "text": [
      "Enter your number:  5\n"
     ]
    },
    {
     "name": "stdout",
     "output_type": "stream",
     "text": [
      "Error with function:'<' not supported between instances of 'str' and 'int'\n"
     ]
    }
   ],
   "source": [
    "import math\n",
    "\n",
    "class NegativeNumberError(Exception):\n",
    "    pass\n",
    "\n",
    "def sqrt_of_number(x):\n",
    "    \n",
    "    if x<0:\n",
    "        raise NegativeNumberError(\"Sorry, no negative number\")\n",
    "    return math.sqrt(x)\n",
    "x = input(\"Enter your number: \")\n",
    "\n",
    "try:\n",
    "    result = sqrt_of_number(x)\n",
    "    print(f\"The square root of {x} is {round(result,2)}\")\n",
    "except NegativeNumberError as e:\n",
    "    print(e)\n",
    "except Exception as e:\n",
    "    print(f\"Error with function:{e}\")"
   ]
  },
  {
   "cell_type": "code",
   "execution_count": 34,
   "id": "9c337352-56cf-4bde-9250-05a7e5f1c4b1",
   "metadata": {},
   "outputs": [],
   "source": [
    "def my_decorator(func):\n",
    "    def wrapper():\n",
    "        print(\"Before function execution\")\n",
    "        func()\n",
    "        print(\"After function execution\")\n",
    "    return wrapper\n"
   ]
  },
  {
   "cell_type": "code",
   "execution_count": 36,
   "id": "c0e6995b-b38b-482b-af71-4ceb500e5001",
   "metadata": {},
   "outputs": [
    {
     "name": "stdout",
     "output_type": "stream",
     "text": [
      "Before function execution\n",
      "hello world\n",
      "After function execution\n"
     ]
    }
   ],
   "source": [
    "@my_decorator\n",
    "def say_hello():\n",
    "    print(\"hello world\")\n",
    "say_hello()"
   ]
  },
  {
   "cell_type": "code",
   "execution_count": 71,
   "id": "e1e54318-5e6b-4602-8708-e2f3a6ccc9b7",
   "metadata": {},
   "outputs": [],
   "source": [
    "def get_data(email):\n",
    "    print(\"Accessing DB ...\")\n",
    "    print(f\"Data Fetched by {email}\")\n",
    "    "
   ]
  },
  {
   "cell_type": "code",
   "execution_count": 87,
   "id": "43903cad-a311-4871-97ed-1b6057395d83",
   "metadata": {},
   "outputs": [],
   "source": [
    "def validate_email(func):\n",
    "    def wrapper(user_email):\n",
    "       if user_email.endswith(\"@gmail.com\"):\n",
    "        func(user_email)\n",
    "       else:\n",
    "        print(\"Only gmail user\")\n",
    "\n",
    "    return wrapper            \n",
    "    "
   ]
  },
  {
   "cell_type": "code",
   "execution_count": 89,
   "id": "ad163046-5580-44bb-8bb5-f735c73277ee",
   "metadata": {},
   "outputs": [],
   "source": [
    "@validate_email\n",
    "def get_data(email):\n",
    "     print(\"Accessing DB ...\")\n",
    "     print(f\"Data Fetched by {email}\")"
   ]
  },
  {
   "cell_type": "code",
   "execution_count": 91,
   "id": "08148e1d-f0f9-47cf-9a1c-2b251cf6af31",
   "metadata": {},
   "outputs": [
    {
     "name": "stdout",
     "output_type": "stream",
     "text": [
      "Accessing DB ...\n",
      "Data Fetched by ran@gmail.com\n"
     ]
    }
   ],
   "source": [
    "get_data(\"ran@gmail.com\")"
   ]
  },
  {
   "cell_type": "code",
   "execution_count": null,
   "id": "a773e751-7150-412d-aff5-0a88fdf94f79",
   "metadata": {},
   "outputs": [],
   "source": []
  }
 ],
 "metadata": {
  "kernelspec": {
   "display_name": "Python 3 (ipykernel)",
   "language": "python",
   "name": "python3"
  },
  "language_info": {
   "codemirror_mode": {
    "name": "ipython",
    "version": 3
   },
   "file_extension": ".py",
   "mimetype": "text/x-python",
   "name": "python",
   "nbconvert_exporter": "python",
   "pygments_lexer": "ipython3",
   "version": "3.12.4"
  }
 },
 "nbformat": 4,
 "nbformat_minor": 5
}
