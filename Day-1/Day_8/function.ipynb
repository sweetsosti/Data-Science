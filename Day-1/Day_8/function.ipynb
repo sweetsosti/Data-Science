{
 "cells": [
  {
   "cell_type": "markdown",
   "id": "e1ad0151-d646-497f-9f1c-16586ead93d3",
   "metadata": {},
   "source": [
    "**function mean**"
   ]
  },
  {
   "cell_type": "code",
   "execution_count": 54,
   "id": "44a2b40f-667d-413f-8c76-eb33a48fdc31",
   "metadata": {},
   "outputs": [],
   "source": [
    "def sms(input_list):\n",
    "    all_sum = sum(input_list)\n",
    "    mean = all_sum/len(input_list)\n",
    "    return mean"
   ]
  },
  {
   "cell_type": "code",
   "execution_count": 56,
   "id": "c3f4e394-4782-4eee-af66-033b4b2441ea",
   "metadata": {},
   "outputs": [
    {
     "data": {
      "text/plain": [
       "2.5"
      ]
     },
     "execution_count": 56,
     "metadata": {},
     "output_type": "execute_result"
    }
   ],
   "source": [
    "sms([1,2,3,4])"
   ]
  },
  {
   "cell_type": "markdown",
   "id": "07368734-e51d-4aa2-8d92-2ac7ba347ee8",
   "metadata": {},
   "source": [
    "**sum**"
   ]
  },
  {
   "cell_type": "code",
   "execution_count": 18,
   "id": "ef63f6e7-b522-49d4-8f47-b8c691bb824f",
   "metadata": {},
   "outputs": [],
   "source": [
    "def add_number(num1, num2):\n",
    "    l_sum = num1 +num2\n",
    "    return l_sum"
   ]
  },
  {
   "cell_type": "code",
   "execution_count": 20,
   "id": "48feb03e-8979-4833-99d8-7e01ee9056e0",
   "metadata": {},
   "outputs": [
    {
     "data": {
      "text/plain": [
       "3"
      ]
     },
     "execution_count": 20,
     "metadata": {},
     "output_type": "execute_result"
    }
   ],
   "source": [
    "add_number(1,2)"
   ]
  },
  {
   "cell_type": "markdown",
   "id": "fbeba6d9-cf38-4267-af88-f983cd39e084",
   "metadata": {},
   "source": [
    "**defult**"
   ]
  },
  {
   "cell_type": "code",
   "execution_count": 32,
   "id": "4804544f-929c-45be-91b5-23afd83691ab",
   "metadata": {},
   "outputs": [],
   "source": [
    "def greet(name,greeting = \"Hello\"):\n",
    "    message = f\"{name}, {greeting}!\"\n",
    "    return message"
   ]
  },
  {
   "cell_type": "code",
   "execution_count": 34,
   "id": "39d11ecb-e93e-49dd-8074-56b2d2541209",
   "metadata": {},
   "outputs": [
    {
     "data": {
      "text/plain": [
       "'sita, Hello!'"
      ]
     },
     "execution_count": 34,
     "metadata": {},
     "output_type": "execute_result"
    }
   ],
   "source": [
    "greet('sita')"
   ]
  },
  {
   "cell_type": "markdown",
   "id": "117cddcd-c5dc-40b8-930f-804b632fbdb5",
   "metadata": {},
   "source": [
    "**arguments**"
   ]
  },
  {
   "cell_type": "code",
   "execution_count": 11,
   "id": "98fb3a8d-9ca1-4ed0-b5d1-caa7ff86488a",
   "metadata": {},
   "outputs": [],
   "source": [
    "def my(*args):\n",
    "    print (*args)"
   ]
  },
  {
   "cell_type": "code",
   "execution_count": 13,
   "id": "1fc3c2e7-1e3c-4e02-a63f-e9ad64696900",
   "metadata": {},
   "outputs": [
    {
     "name": "stdout",
     "output_type": "stream",
     "text": [
      "1 2 name\n"
     ]
    }
   ],
   "source": [
    "my(1,2,'name')"
   ]
  },
  {
   "cell_type": "markdown",
   "id": "56dd0064-18ac-4e6a-93f9-d9d48193ed95",
   "metadata": {},
   "source": [
    "**key arguments**"
   ]
  },
  {
   "cell_type": "code",
   "execution_count": 27,
   "id": "a6f1c92e-33b0-43af-b10e-24cccc0e3a30",
   "metadata": {},
   "outputs": [],
   "source": [
    "def hy(**keargs):\n",
    "    print (keargs)"
   ]
  },
  {
   "cell_type": "code",
   "execution_count": 29,
   "id": "e2b20413-f2d7-43a1-ac6a-3fbf56c2a354",
   "metadata": {},
   "outputs": [
    {
     "name": "stdout",
     "output_type": "stream",
     "text": [
      "{'name': 'John', 'age': 25}\n"
     ]
    }
   ],
   "source": [
    "hy(name=\"John\", age=25)"
   ]
  },
  {
   "cell_type": "markdown",
   "id": "08cd2f59-c17e-4217-a854-29c4df8aa645",
   "metadata": {},
   "source": [
    "**mean square error**"
   ]
  },
  {
   "cell_type": "code",
   "execution_count": 32,
   "id": "b443a72e-eae3-4c3c-bc59-94c0b0dd6373",
   "metadata": {},
   "outputs": [],
   "source": [
    "def mean_sq_err(*error):\n",
    "    total = sum(error)\n",
    "    mean = total/len(error)\n",
    "    return mean"
   ]
  },
  {
   "cell_type": "code",
   "execution_count": 42,
   "id": "2e397173-83ef-4179-ba2e-d56d75d75a46",
   "metadata": {},
   "outputs": [
    {
     "data": {
      "text/plain": [
       "55.8"
      ]
     },
     "execution_count": 42,
     "metadata": {},
     "output_type": "execute_result"
    }
   ],
   "source": [
    "mean_sq_err(*[50,60,70,90,9])"
   ]
  },
  {
   "cell_type": "code",
   "execution_count": 44,
   "id": "bb8b7f9f-f9d7-4724-90c3-90b324f39648",
   "metadata": {},
   "outputs": [
    {
     "data": {
      "text/plain": [
       "20.0"
      ]
     },
     "execution_count": 44,
     "metadata": {},
     "output_type": "execute_result"
    }
   ],
   "source": [
    "mean_sq_err(10,20,30)"
   ]
  },
  {
   "cell_type": "markdown",
   "id": "7c203138-73af-4164-acbc-4dd5b0b7c213",
   "metadata": {},
   "source": [
    "**key argument**"
   ]
  },
  {
   "cell_type": "code",
   "execution_count": 49,
   "id": "e638e0f7-f95a-4ef3-83cd-36b42aa082ad",
   "metadata": {},
   "outputs": [],
   "source": [
    "def create_model(name, **kwargs):\n",
    "    model_name = name\n",
    "    model_size = kwargs['size']\n",
    "    model_type = kwargs['type']\n",
    "\n",
    "    return {name : f\"{model_type}_{model_size}\"}"
   ]
  },
  {
   "cell_type": "code",
   "execution_count": 51,
   "id": "ad289dfb-adf2-4f04-a242-f673c227521f",
   "metadata": {},
   "outputs": [
    {
     "data": {
      "text/plain": [
       "{'car': 'suv_4000'}"
      ]
     },
     "execution_count": 51,
     "metadata": {},
     "output_type": "execute_result"
    }
   ],
   "source": [
    "create_model('car', size = 4000, type = 'suv')"
   ]
  },
  {
   "cell_type": "markdown",
   "id": "25cbc6cc-a9e7-4e4d-9f5e-a5612f08cd74",
   "metadata": {},
   "source": [
    "**default**"
   ]
  },
  {
   "cell_type": "code",
   "execution_count": 5,
   "id": "4ff9c0a2-3964-4cd8-97cf-a5c42cf0d8b6",
   "metadata": {},
   "outputs": [],
   "source": [
    "def create_model(name, **kwargs):\n",
    "    \"\"\"name is name\"\"\"\n",
    "    model_name = name\n",
    "    model_size = kwargs['size']\n",
    "    model_type = kwargs.get('type','linear')\n",
    "\n",
    "\n",
    "    return {name : f\"{model_type}_{model_size}\"}"
   ]
  },
  {
   "cell_type": "code",
   "execution_count": 3,
   "id": "361e2f95-5c2c-4ad5-bc4f-8710c8effc18",
   "metadata": {},
   "outputs": [
    {
     "data": {
      "text/plain": [
       "{'car': 'linear_4000'}"
      ]
     },
     "execution_count": 3,
     "metadata": {},
     "output_type": "execute_result"
    }
   ],
   "source": [
    " create_model('car', size = 4000)"
   ]
  },
  {
   "cell_type": "markdown",
   "id": "58664898-045e-4d2e-b471-784242e1c097",
   "metadata": {},
   "source": [
    "***Question: Default Parameter Values\n",
    "**Write a Program to Define a Function `power`** that takes two arguments, `base` and `exp`. The function should return `base` raised to the power of `exp`.\n",
    " \n",
    "If `exp` is not provided, it should default to 2. Call this function with and without the second argument and print the results.***"
   ]
  },
  {
   "cell_type": "markdown",
   "id": "5494466c-73b6-44c6-9f81-f83ac378fbb4",
   "metadata": {},
   "source": [
    "**with documentation**"
   ]
  },
  {
   "cell_type": "code",
   "execution_count": null,
   "id": "08c9fa4c-1802-4542-aad0-eb2ae0b6d88f",
   "metadata": {},
   "outputs": [],
   "source": []
  },
  {
   "cell_type": "code",
   "execution_count": 32,
   "id": "0e9f343e-b7da-4a96-b95c-7f5f323a1302",
   "metadata": {},
   "outputs": [
    {
     "data": {
      "text/plain": [
       "9"
      ]
     },
     "execution_count": 32,
     "metadata": {},
     "output_type": "execute_result"
    }
   ],
   "source": [
    "def power(base,exp=2): \n",
    "    \"\"\"\n",
    "    Calculate the power of a number.\n",
    "    \n",
    "    Parameters:\n",
    "    base (int, float): The base number.\n",
    "    exp (int, float, optional): The exponent to raise the base to. Default is 2.\n",
    "    \n",
    "    Returns:\n",
    "    int, float: The result of raising the base to the power of exp.\n",
    "    \n",
    "    Example:\n",
    "    >>> power(3)\n",
    "    9\n",
    "    >>> power(2, 3)\n",
    "    8\n",
    "    \"\"\"\n",
    "    result = base ** exp\n",
    "    return result\n",
    "power(3)"
   ]
  },
  {
   "cell_type": "code",
   "execution_count": 16,
   "id": "46140a01-c41b-455c-9aa6-fabef5d37586",
   "metadata": {},
   "outputs": [
    {
     "data": {
      "text/plain": [
       "216"
      ]
     },
     "execution_count": 16,
     "metadata": {},
     "output_type": "execute_result"
    }
   ],
   "source": [
    "power(6,3)"
   ]
  }
 ],
 "metadata": {
  "kernelspec": {
   "display_name": "Python 3 (ipykernel)",
   "language": "python",
   "name": "python3"
  },
  "language_info": {
   "codemirror_mode": {
    "name": "ipython",
    "version": 3
   },
   "file_extension": ".py",
   "mimetype": "text/x-python",
   "name": "python",
   "nbconvert_exporter": "python",
   "pygments_lexer": "ipython3",
   "version": "3.12.4"
  }
 },
 "nbformat": 4,
 "nbformat_minor": 5
}
